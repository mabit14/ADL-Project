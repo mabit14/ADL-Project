{
  "nbformat": 4,
  "nbformat_minor": 0,
  "metadata": {
    "colab": {
      "name": "Untitled3.ipynb",
      "provenance": [],
      "collapsed_sections": []
    },
    "kernelspec": {
      "name": "python3",
      "display_name": "Python 3"
    }
  },
  "cells": [
    {
      "cell_type": "code",
      "metadata": {
        "id": "SRxcQP2y8_m1",
        "colab_type": "code",
        "colab": {}
      },
      "source": [
        "import os \n",
        "import numpy as np \n",
        "import pandas as pd \n",
        "import tensorflow as tf\n",
        "from tensorflow import keras\n",
        "from keras.models import Sequential\n",
        "from keras.layers import Dense, Conv2D, Flatten, Dropout, MaxPooling2D\n",
        "from keras.preprocessing.image import ImageDataGenerator\n",
        "from keras import regularizers, optimizers\n"
      ],
      "execution_count": 0,
      "outputs": []
    },
    {
      "cell_type": "code",
      "metadata": {
        "id": "4mEdgsXG-TKF",
        "colab_type": "code",
        "colab": {}
      },
      "source": [
        "def appendExt(fileName):\n",
        "  return fileName+\".jpg\""
      ],
      "execution_count": 0,
      "outputs": []
    },
    {
      "cell_type": "code",
      "metadata": {
        "id": "bMV8caks_S4I",
        "colab_type": "code",
        "colab": {}
      },
      "source": [
        "trainingDF = pd.read_csv(\"train.csv\")\n",
        "trainingDF[\"image_id\"] = trainingDF[\"image_id\"].apply(appendExt)\n",
        "\n",
        "testingDF = pd.read_csv(\"test.csv\")\n",
        "testingDF[\"image_id\"] = testingDF[\"image_id\"].apply(appendExt)"
      ],
      "execution_count": 0,
      "outputs": []
    },
    {
      "cell_type": "code",
      "metadata": {
        "id": "RbKKy9_cAao7",
        "colab_type": "code",
        "colab": {}
      },
      "source": [
        "imageSize = 100\n",
        "batchSize = 32\n",
        "epochs = 100"
      ],
      "execution_count": 0,
      "outputs": []
    },
    {
      "cell_type": "code",
      "metadata": {
        "id": "Ji3G-bS__gje",
        "colab_type": "code",
        "colab": {}
      },
      "source": [
        "labels = [\"healthy\", \"multiple_diseases\", \"rust\", \"scab\"]\n",
        "datagen = ImageDataGenerator(rescale = 1. / 255.,\n",
        "                             rotation_range=45,\n",
        "                             width_shift_range=.15,\n",
        "                             height_shift_range=.15,\n",
        "                             horizontal_flip=True,\n",
        "                             zoom_range=0.5\n",
        ")\n",
        "validationDataGen = ImageDataGenerator(rescale = 1. / 255.)\n",
        "testDataGen = ImageDataGenerator(rescale = 1. / 255.)"
      ],
      "execution_count": 0,
      "outputs": []
    },
    {
      "cell_type": "code",
      "metadata": {
        "id": "Y91dfr5W_nE5",
        "colab_type": "code",
        "outputId": "929745e3-1ff4-49fd-a187-306a00ffe06e",
        "colab": {
          "base_uri": "https://localhost:8080/",
          "height": 69
        }
      },
      "source": [
        "trainGenerator = datagen.flow_from_dataframe(\n",
        "    dataframe = trainingDF[:1455],\n",
        "    directory = 'images',\n",
        "    x_col = \"image_id\",\n",
        "    y_col = labels,\n",
        "    batch_size = batchSize,\n",
        "    seed = 42,\n",
        "    shuffle = True,\n",
        "    class_mode = \"raw\",\n",
        "    target_size=(imageSize,imageSize)\n",
        ")\n",
        "\n",
        "validationGenerator = validationDataGen.flow_from_dataframe(\n",
        "    dataframe = trainingDF[1456:],\n",
        "    directory = 'images',\n",
        "    x_col = \"image_id\",\n",
        "    y_col = labels,\n",
        "    batch_size = batchSize,\n",
        "    seed = 42,\n",
        "    shuffle = True,\n",
        "    class_mode = \"raw\",\n",
        "    target_size=(imageSize,imageSize)\n",
        ")\n",
        "\n",
        "testGenerator = testDataGen.flow_from_dataframe(\n",
        "    dataframe = testingDF,\n",
        "    directory = 'images',\n",
        "    x_col = \"image_id\",\n",
        "    batch_size = 1,\n",
        "    seed = 42,\n",
        "    shuffle = False,\n",
        "    class_mode = None,\n",
        "    target_size=(imageSize,imageSize)\n",
        ")"
      ],
      "execution_count": 0,
      "outputs": [
        {
          "output_type": "stream",
          "text": [
            "Found 1455 validated image filenames.\n",
            "Found 365 validated image filenames.\n",
            "Found 1821 validated image filenames.\n"
          ],
          "name": "stdout"
        }
      ]
    },
    {
      "cell_type": "code",
      "metadata": {
        "id": "Qk-z6EItBpqx",
        "colab_type": "code",
        "outputId": "812cee23-9d36-41b8-82d7-94633749607b",
        "colab": {
          "base_uri": "https://localhost:8080/",
          "height": 573
        }
      },
      "source": [
        "model = Sequential([\n",
        "  Conv2D(32, (3,3), padding='same', activation='relu', input_shape=(imageSize, imageSize, 3)),\n",
        "  Conv2D(32, (3,3), padding='same', activation='relu'),\n",
        "  MaxPooling2D(pool_size=(2,2)),\n",
        "  Dropout(0.25),\n",
        "  Conv2D(64, (3,3), padding='same', activation='relu'),\n",
        "  Conv2D(64, (3,3), padding='same', activation='relu'),\n",
        "  MaxPooling2D(pool_size=(2,2)),\n",
        "  Dropout(0.25),\n",
        "  Flatten(),\n",
        "  Dense(512, activation='relu'),\n",
        "  Dropout(0.5),\n",
        "  Dense(4, activation='softmax')\n",
        "])\n",
        "\n",
        "model.compile(optimizers.Adam(lr=0.0001, decay=1e-6),loss=\"categorical_crossentropy\",metrics=[\"accuracy\"])\n",
        "\n",
        "model.summary()"
      ],
      "execution_count": 0,
      "outputs": [
        {
          "output_type": "stream",
          "text": [
            "Model: \"sequential_6\"\n",
            "_________________________________________________________________\n",
            "Layer (type)                 Output Shape              Param #   \n",
            "=================================================================\n",
            "conv2d_21 (Conv2D)           (None, 100, 100, 32)      896       \n",
            "_________________________________________________________________\n",
            "conv2d_22 (Conv2D)           (None, 100, 100, 32)      9248      \n",
            "_________________________________________________________________\n",
            "max_pooling2d_11 (MaxPooling (None, 50, 50, 32)        0         \n",
            "_________________________________________________________________\n",
            "dropout_16 (Dropout)         (None, 50, 50, 32)        0         \n",
            "_________________________________________________________________\n",
            "conv2d_23 (Conv2D)           (None, 50, 50, 64)        18496     \n",
            "_________________________________________________________________\n",
            "conv2d_24 (Conv2D)           (None, 50, 50, 64)        36928     \n",
            "_________________________________________________________________\n",
            "max_pooling2d_12 (MaxPooling (None, 25, 25, 64)        0         \n",
            "_________________________________________________________________\n",
            "dropout_17 (Dropout)         (None, 25, 25, 64)        0         \n",
            "_________________________________________________________________\n",
            "flatten_6 (Flatten)          (None, 40000)             0         \n",
            "_________________________________________________________________\n",
            "dense_11 (Dense)             (None, 512)               20480512  \n",
            "_________________________________________________________________\n",
            "dropout_18 (Dropout)         (None, 512)               0         \n",
            "_________________________________________________________________\n",
            "dense_12 (Dense)             (None, 4)                 2052      \n",
            "=================================================================\n",
            "Total params: 20,548,132\n",
            "Trainable params: 20,548,132\n",
            "Non-trainable params: 0\n",
            "_________________________________________________________________\n"
          ],
          "name": "stdout"
        }
      ]
    },
    {
      "cell_type": "code",
      "metadata": {
        "id": "cwnB13nAPodn",
        "colab_type": "code",
        "outputId": "316e7843-e9e2-45fe-db5e-ad342945c4ee",
        "colab": {
          "base_uri": "https://localhost:8080/",
          "height": 1000
        }
      },
      "source": [
        "STEP_SIZE_TRAIN = trainGenerator.n//trainGenerator.batch_size\n",
        "STEP_SIZE_VALID = validationGenerator.n//validationGenerator.batch_size\n",
        "model.fit_generator(generator=trainGenerator,\n",
        "                    steps_per_epoch=STEP_SIZE_TRAIN,\n",
        "                    validation_data=validationGenerator,\n",
        "                    validation_steps=STEP_SIZE_VALID,\n",
        "                    epochs=epochs\n",
        ")"
      ],
      "execution_count": 77,
      "outputs": [
        {
          "output_type": "stream",
          "text": [
            "Epoch 1/100\n",
            "45/45 [==============================] - 83s 2s/step - loss: 0.4333 - accuracy: 0.8609 - val_loss: 1.0172 - val_accuracy: 0.8210\n",
            "Epoch 2/100\n",
            "45/45 [==============================] - 82s 2s/step - loss: 0.4294 - accuracy: 0.8630 - val_loss: 0.3351 - val_accuracy: 0.8288\n",
            "Epoch 3/100\n",
            "45/45 [==============================] - 83s 2s/step - loss: 0.4071 - accuracy: 0.8658 - val_loss: 0.7283 - val_accuracy: 0.8408\n",
            "Epoch 4/100\n",
            "45/45 [==============================] - 82s 2s/step - loss: 0.4320 - accuracy: 0.8623 - val_loss: 0.4838 - val_accuracy: 0.8018\n",
            "Epoch 5/100\n",
            "45/45 [==============================] - 83s 2s/step - loss: 0.4565 - accuracy: 0.8458 - val_loss: 0.5754 - val_accuracy: 0.8078\n",
            "Epoch 6/100\n",
            "45/45 [==============================] - 84s 2s/step - loss: 0.4170 - accuracy: 0.8663 - val_loss: 0.5394 - val_accuracy: 0.8619\n",
            "Epoch 7/100\n",
            "45/45 [==============================] - 81s 2s/step - loss: 0.4253 - accuracy: 0.8665 - val_loss: 0.6403 - val_accuracy: 0.8408\n",
            "Epoch 8/100\n",
            "45/45 [==============================] - 82s 2s/step - loss: 0.4295 - accuracy: 0.8625 - val_loss: 0.4678 - val_accuracy: 0.8138\n",
            "Epoch 9/100\n",
            "45/45 [==============================] - 81s 2s/step - loss: 0.4045 - accuracy: 0.8623 - val_loss: 0.2669 - val_accuracy: 0.8679\n",
            "Epoch 10/100\n",
            "45/45 [==============================] - 80s 2s/step - loss: 0.4266 - accuracy: 0.8665 - val_loss: 0.3692 - val_accuracy: 0.8408\n",
            "Epoch 11/100\n",
            "45/45 [==============================] - 79s 2s/step - loss: 0.4085 - accuracy: 0.8634 - val_loss: 0.4025 - val_accuracy: 0.8228\n",
            "Epoch 12/100\n",
            "45/45 [==============================] - 80s 2s/step - loss: 0.4089 - accuracy: 0.8672 - val_loss: 0.0432 - val_accuracy: 0.8378\n",
            "Epoch 13/100\n",
            "45/45 [==============================] - 84s 2s/step - loss: 0.4121 - accuracy: 0.8595 - val_loss: 0.7954 - val_accuracy: 0.8438\n",
            "Epoch 14/100\n",
            "45/45 [==============================] - 81s 2s/step - loss: 0.4277 - accuracy: 0.8630 - val_loss: 0.3132 - val_accuracy: 0.8468\n",
            "Epoch 15/100\n",
            "45/45 [==============================] - 80s 2s/step - loss: 0.4226 - accuracy: 0.8644 - val_loss: 0.4686 - val_accuracy: 0.8048\n",
            "Epoch 16/100\n",
            "45/45 [==============================] - 80s 2s/step - loss: 0.3962 - accuracy: 0.8756 - val_loss: 0.4095 - val_accuracy: 0.8378\n",
            "Epoch 17/100\n",
            "45/45 [==============================] - 81s 2s/step - loss: 0.3980 - accuracy: 0.8722 - val_loss: 0.5484 - val_accuracy: 0.8318\n",
            "Epoch 18/100\n",
            "45/45 [==============================] - 79s 2s/step - loss: 0.4011 - accuracy: 0.8826 - val_loss: 0.4176 - val_accuracy: 0.7898\n",
            "Epoch 19/100\n",
            "45/45 [==============================] - 80s 2s/step - loss: 0.3806 - accuracy: 0.8792 - val_loss: 0.7233 - val_accuracy: 0.8228\n",
            "Epoch 20/100\n",
            "45/45 [==============================] - 79s 2s/step - loss: 0.3883 - accuracy: 0.8748 - val_loss: 0.3069 - val_accuracy: 0.8288\n",
            "Epoch 21/100\n",
            "45/45 [==============================] - 82s 2s/step - loss: 0.3965 - accuracy: 0.8679 - val_loss: 0.5700 - val_accuracy: 0.8258\n",
            "Epoch 22/100\n",
            "45/45 [==============================] - 80s 2s/step - loss: 0.3825 - accuracy: 0.8764 - val_loss: 0.4635 - val_accuracy: 0.8498\n",
            "Epoch 23/100\n",
            "45/45 [==============================] - 79s 2s/step - loss: 0.3774 - accuracy: 0.8812 - val_loss: 0.4939 - val_accuracy: 0.8408\n",
            "Epoch 24/100\n",
            "45/45 [==============================] - 77s 2s/step - loss: 0.3853 - accuracy: 0.8698 - val_loss: 1.1927 - val_accuracy: 0.8288\n",
            "Epoch 25/100\n",
            "45/45 [==============================] - 85s 2s/step - loss: 0.4075 - accuracy: 0.8681 - val_loss: 0.2224 - val_accuracy: 0.7841\n",
            "Epoch 26/100\n",
            "45/45 [==============================] - 83s 2s/step - loss: 0.4173 - accuracy: 0.8602 - val_loss: 0.5525 - val_accuracy: 0.8348\n",
            "Epoch 27/100\n",
            "45/45 [==============================] - 83s 2s/step - loss: 0.3377 - accuracy: 0.8918 - val_loss: 0.6319 - val_accuracy: 0.8318\n",
            "Epoch 28/100\n",
            "45/45 [==============================] - 88s 2s/step - loss: 0.3836 - accuracy: 0.8777 - val_loss: 0.8358 - val_accuracy: 0.8258\n",
            "Epoch 29/100\n",
            "45/45 [==============================] - 82s 2s/step - loss: 0.3864 - accuracy: 0.8684 - val_loss: 0.6316 - val_accuracy: 0.8318\n",
            "Epoch 30/100\n",
            "45/45 [==============================] - 82s 2s/step - loss: 0.3884 - accuracy: 0.8694 - val_loss: 0.9438 - val_accuracy: 0.7598\n",
            "Epoch 31/100\n",
            "45/45 [==============================] - 81s 2s/step - loss: 0.3509 - accuracy: 0.8918 - val_loss: 0.5679 - val_accuracy: 0.8679\n",
            "Epoch 32/100\n",
            "45/45 [==============================] - 81s 2s/step - loss: 0.3683 - accuracy: 0.8819 - val_loss: 0.8243 - val_accuracy: 0.8348\n",
            "Epoch 33/100\n",
            "45/45 [==============================] - 81s 2s/step - loss: 0.3730 - accuracy: 0.8756 - val_loss: 0.4980 - val_accuracy: 0.8589\n",
            "Epoch 34/100\n",
            "45/45 [==============================] - 81s 2s/step - loss: 0.3607 - accuracy: 0.8890 - val_loss: 0.4390 - val_accuracy: 0.8438\n",
            "Epoch 35/100\n",
            "45/45 [==============================] - 81s 2s/step - loss: 0.3875 - accuracy: 0.8686 - val_loss: 0.4489 - val_accuracy: 0.8438\n",
            "Epoch 36/100\n",
            "45/45 [==============================] - 84s 2s/step - loss: 0.3792 - accuracy: 0.8805 - val_loss: 0.6636 - val_accuracy: 0.8559\n",
            "Epoch 37/100\n",
            "45/45 [==============================] - 82s 2s/step - loss: 0.3593 - accuracy: 0.8819 - val_loss: 0.2551 - val_accuracy: 0.8722\n",
            "Epoch 38/100\n",
            "45/45 [==============================] - 81s 2s/step - loss: 0.4050 - accuracy: 0.8713 - val_loss: 0.7170 - val_accuracy: 0.8048\n",
            "Epoch 39/100\n",
            "45/45 [==============================] - 82s 2s/step - loss: 0.3463 - accuracy: 0.8826 - val_loss: 0.4581 - val_accuracy: 0.8589\n",
            "Epoch 40/100\n",
            "45/45 [==============================] - 81s 2s/step - loss: 0.3501 - accuracy: 0.8883 - val_loss: 0.4052 - val_accuracy: 0.7988\n",
            "Epoch 41/100\n",
            "45/45 [==============================] - 81s 2s/step - loss: 0.3508 - accuracy: 0.8890 - val_loss: 0.4475 - val_accuracy: 0.8529\n",
            "Epoch 42/100\n",
            "45/45 [==============================] - 81s 2s/step - loss: 0.3696 - accuracy: 0.8833 - val_loss: 0.6504 - val_accuracy: 0.8679\n",
            "Epoch 43/100\n",
            "45/45 [==============================] - 84s 2s/step - loss: 0.3986 - accuracy: 0.8771 - val_loss: 0.4109 - val_accuracy: 0.8498\n",
            "Epoch 44/100\n",
            "45/45 [==============================] - 81s 2s/step - loss: 0.3286 - accuracy: 0.8918 - val_loss: 0.5264 - val_accuracy: 0.7898\n",
            "Epoch 45/100\n",
            "45/45 [==============================] - 80s 2s/step - loss: 0.3415 - accuracy: 0.8798 - val_loss: 0.4053 - val_accuracy: 0.8498\n",
            "Epoch 46/100\n",
            "45/45 [==============================] - 81s 2s/step - loss: 0.3511 - accuracy: 0.8939 - val_loss: 0.6341 - val_accuracy: 0.8378\n",
            "Epoch 47/100\n",
            "45/45 [==============================] - 78s 2s/step - loss: 0.3468 - accuracy: 0.8967 - val_loss: 0.6317 - val_accuracy: 0.8589\n",
            "Epoch 48/100\n",
            "45/45 [==============================] - 80s 2s/step - loss: 0.3626 - accuracy: 0.8876 - val_loss: 0.5326 - val_accuracy: 0.8438\n",
            "Epoch 49/100\n",
            "45/45 [==============================] - 81s 2s/step - loss: 0.3473 - accuracy: 0.8869 - val_loss: 0.4546 - val_accuracy: 0.8551\n",
            "Epoch 50/100\n",
            "45/45 [==============================] - 81s 2s/step - loss: 0.3511 - accuracy: 0.8833 - val_loss: 0.2392 - val_accuracy: 0.8679\n",
            "Epoch 51/100\n",
            "45/45 [==============================] - 83s 2s/step - loss: 0.3433 - accuracy: 0.8876 - val_loss: 0.6121 - val_accuracy: 0.8318\n",
            "Epoch 52/100\n",
            "45/45 [==============================] - 78s 2s/step - loss: 0.3637 - accuracy: 0.8707 - val_loss: 0.4182 - val_accuracy: 0.8348\n",
            "Epoch 53/100\n",
            "45/45 [==============================] - 78s 2s/step - loss: 0.3494 - accuracy: 0.8946 - val_loss: 0.4674 - val_accuracy: 0.8529\n",
            "Epoch 54/100\n",
            "45/45 [==============================] - 78s 2s/step - loss: 0.3131 - accuracy: 0.9023 - val_loss: 0.5825 - val_accuracy: 0.8619\n",
            "Epoch 55/100\n",
            "45/45 [==============================] - 78s 2s/step - loss: 0.3255 - accuracy: 0.9000 - val_loss: 0.4771 - val_accuracy: 0.8679\n",
            "Epoch 56/100\n",
            "45/45 [==============================] - 81s 2s/step - loss: 0.3492 - accuracy: 0.8905 - val_loss: 0.4616 - val_accuracy: 0.8408\n",
            "Epoch 57/100\n",
            "45/45 [==============================] - 83s 2s/step - loss: 0.3377 - accuracy: 0.8855 - val_loss: 0.5422 - val_accuracy: 0.8829\n",
            "Epoch 58/100\n",
            "45/45 [==============================] - 86s 2s/step - loss: 0.3335 - accuracy: 0.8981 - val_loss: 0.3846 - val_accuracy: 0.8198\n",
            "Epoch 59/100\n",
            "45/45 [==============================] - 81s 2s/step - loss: 0.3194 - accuracy: 0.8960 - val_loss: 0.4127 - val_accuracy: 0.8739\n",
            "Epoch 60/100\n",
            "45/45 [==============================] - 81s 2s/step - loss: 0.3127 - accuracy: 0.9044 - val_loss: 0.2848 - val_accuracy: 0.8559\n",
            "Epoch 61/100\n",
            "45/45 [==============================] - 82s 2s/step - loss: 0.3473 - accuracy: 0.8848 - val_loss: 0.3524 - val_accuracy: 0.8608\n",
            "Epoch 62/100\n",
            "45/45 [==============================] - 82s 2s/step - loss: 0.3044 - accuracy: 0.9062 - val_loss: 0.6046 - val_accuracy: 0.8468\n",
            "Epoch 63/100\n",
            "45/45 [==============================] - 80s 2s/step - loss: 0.3464 - accuracy: 0.8947 - val_loss: 0.2315 - val_accuracy: 0.8739\n",
            "Epoch 64/100\n",
            "45/45 [==============================] - 81s 2s/step - loss: 0.3178 - accuracy: 0.8960 - val_loss: 0.4525 - val_accuracy: 0.8318\n",
            "Epoch 65/100\n",
            "45/45 [==============================] - 82s 2s/step - loss: 0.3280 - accuracy: 0.8944 - val_loss: 0.8443 - val_accuracy: 0.8559\n",
            "Epoch 66/100\n",
            "45/45 [==============================] - 83s 2s/step - loss: 0.3014 - accuracy: 0.8997 - val_loss: 0.2425 - val_accuracy: 0.8799\n",
            "Epoch 67/100\n",
            "45/45 [==============================] - 81s 2s/step - loss: 0.3091 - accuracy: 0.8965 - val_loss: 0.6939 - val_accuracy: 0.8378\n",
            "Epoch 68/100\n",
            "45/45 [==============================] - 83s 2s/step - loss: 0.3696 - accuracy: 0.8812 - val_loss: 0.3049 - val_accuracy: 0.8889\n",
            "Epoch 69/100\n",
            "45/45 [==============================] - 84s 2s/step - loss: 0.3016 - accuracy: 0.9021 - val_loss: 0.2683 - val_accuracy: 0.8529\n",
            "Epoch 70/100\n",
            "45/45 [==============================] - 82s 2s/step - loss: 0.3280 - accuracy: 0.8976 - val_loss: 0.3537 - val_accuracy: 0.8529\n",
            "Epoch 71/100\n",
            "45/45 [==============================] - 82s 2s/step - loss: 0.3120 - accuracy: 0.8958 - val_loss: 0.2829 - val_accuracy: 0.8709\n",
            "Epoch 72/100\n",
            "45/45 [==============================] - 80s 2s/step - loss: 0.3011 - accuracy: 0.9033 - val_loss: 0.6667 - val_accuracy: 0.8709\n",
            "Epoch 73/100\n",
            "45/45 [==============================] - 86s 2s/step - loss: 0.3022 - accuracy: 0.9014 - val_loss: 0.7137 - val_accuracy: 0.8494\n",
            "Epoch 74/100\n",
            "45/45 [==============================] - 83s 2s/step - loss: 0.3012 - accuracy: 0.9044 - val_loss: 0.1917 - val_accuracy: 0.8498\n",
            "Epoch 75/100\n",
            "45/45 [==============================] - 82s 2s/step - loss: 0.3043 - accuracy: 0.9090 - val_loss: 0.3389 - val_accuracy: 0.8709\n",
            "Epoch 76/100\n",
            "45/45 [==============================] - 83s 2s/step - loss: 0.3263 - accuracy: 0.8944 - val_loss: 0.4649 - val_accuracy: 0.8829\n",
            "Epoch 77/100\n",
            "45/45 [==============================] - 82s 2s/step - loss: 0.3043 - accuracy: 0.9079 - val_loss: 0.3088 - val_accuracy: 0.8829\n",
            "Epoch 78/100\n",
            "45/45 [==============================] - 82s 2s/step - loss: 0.3106 - accuracy: 0.9002 - val_loss: 0.4817 - val_accuracy: 0.8529\n",
            "Epoch 79/100\n",
            "45/45 [==============================] - 81s 2s/step - loss: 0.2801 - accuracy: 0.9164 - val_loss: 0.3833 - val_accuracy: 0.8589\n",
            "Epoch 80/100\n",
            "45/45 [==============================] - 81s 2s/step - loss: 0.3011 - accuracy: 0.9030 - val_loss: 0.1927 - val_accuracy: 0.8498\n",
            "Epoch 81/100\n",
            "45/45 [==============================] - 84s 2s/step - loss: 0.3100 - accuracy: 0.9037 - val_loss: 0.5960 - val_accuracy: 0.8498\n",
            "Epoch 82/100\n",
            "45/45 [==============================] - 83s 2s/step - loss: 0.3489 - accuracy: 0.8833 - val_loss: 0.8018 - val_accuracy: 0.8198\n",
            "Epoch 83/100\n",
            "45/45 [==============================] - 83s 2s/step - loss: 0.3088 - accuracy: 0.8974 - val_loss: 0.6079 - val_accuracy: 0.8709\n",
            "Epoch 84/100\n",
            "45/45 [==============================] - 83s 2s/step - loss: 0.3044 - accuracy: 0.9037 - val_loss: 0.6228 - val_accuracy: 0.8559\n",
            "Epoch 85/100\n",
            "45/45 [==============================] - 82s 2s/step - loss: 0.2998 - accuracy: 0.9068 - val_loss: 0.3341 - val_accuracy: 0.8494\n",
            "Epoch 86/100\n",
            "45/45 [==============================] - 84s 2s/step - loss: 0.3088 - accuracy: 0.8910 - val_loss: 0.1804 - val_accuracy: 0.8649\n",
            "Epoch 87/100\n",
            "45/45 [==============================] - 81s 2s/step - loss: 0.2801 - accuracy: 0.9054 - val_loss: 0.5198 - val_accuracy: 0.8559\n",
            "Epoch 88/100\n",
            "45/45 [==============================] - 86s 2s/step - loss: 0.3154 - accuracy: 0.8993 - val_loss: 0.1506 - val_accuracy: 0.8859\n",
            "Epoch 89/100\n",
            "45/45 [==============================] - 82s 2s/step - loss: 0.2994 - accuracy: 0.8981 - val_loss: 0.4649 - val_accuracy: 0.8438\n",
            "Epoch 90/100\n",
            "45/45 [==============================] - 82s 2s/step - loss: 0.2774 - accuracy: 0.9136 - val_loss: 0.4210 - val_accuracy: 0.8438\n",
            "Epoch 91/100\n",
            "45/45 [==============================] - 82s 2s/step - loss: 0.2927 - accuracy: 0.9016 - val_loss: 0.4934 - val_accuracy: 0.8739\n",
            "Epoch 92/100\n",
            "45/45 [==============================] - 84s 2s/step - loss: 0.3087 - accuracy: 0.9044 - val_loss: 0.0761 - val_accuracy: 0.8769\n",
            "Epoch 93/100\n",
            "45/45 [==============================] - 81s 2s/step - loss: 0.3043 - accuracy: 0.8995 - val_loss: 0.2697 - val_accuracy: 0.8408\n",
            "Epoch 94/100\n",
            "45/45 [==============================] - 83s 2s/step - loss: 0.2793 - accuracy: 0.9100 - val_loss: 0.4058 - val_accuracy: 0.8829\n",
            "Epoch 95/100\n",
            "45/45 [==============================] - 85s 2s/step - loss: 0.2969 - accuracy: 0.9030 - val_loss: 0.3241 - val_accuracy: 0.8619\n",
            "Epoch 96/100\n",
            "45/45 [==============================] - 82s 2s/step - loss: 0.2867 - accuracy: 0.9058 - val_loss: 0.6320 - val_accuracy: 0.8258\n",
            "Epoch 97/100\n",
            "45/45 [==============================] - 84s 2s/step - loss: 0.3121 - accuracy: 0.9049 - val_loss: 0.7537 - val_accuracy: 0.8551\n",
            "Epoch 98/100\n",
            "45/45 [==============================] - 82s 2s/step - loss: 0.3003 - accuracy: 0.9090 - val_loss: 0.3883 - val_accuracy: 0.8859\n",
            "Epoch 99/100\n",
            "45/45 [==============================] - 82s 2s/step - loss: 0.2847 - accuracy: 0.9122 - val_loss: 0.3183 - val_accuracy: 0.8799\n",
            "Epoch 100/100\n",
            "45/45 [==============================] - 82s 2s/step - loss: 0.2960 - accuracy: 0.9009 - val_loss: 0.2749 - val_accuracy: 0.8739\n"
          ],
          "name": "stdout"
        },
        {
          "output_type": "execute_result",
          "data": {
            "text/plain": [
              "<keras.callbacks.callbacks.History at 0x7f5ab29b2f28>"
            ]
          },
          "metadata": {
            "tags": []
          },
          "execution_count": 77
        }
      ]
    },
    {
      "cell_type": "code",
      "metadata": {
        "id": "9EoId9rgnvY2",
        "colab_type": "code",
        "outputId": "bce4861d-7f97-45de-be06-195733afeba5",
        "colab": {
          "base_uri": "https://localhost:8080/",
          "height": 34
        }
      },
      "source": [
        "STEP_SIZE_TEST = testGenerator.n//testGenerator.batch_size\n",
        "testGenerator.reset()\n",
        "pred=model.predict_generator(testGenerator,\n",
        "steps=STEP_SIZE_TEST,\n",
        "verbose=1)"
      ],
      "execution_count": 78,
      "outputs": [
        {
          "output_type": "stream",
          "text": [
            "1821/1821 [==============================] - 43s 24ms/step\n"
          ],
          "name": "stdout"
        }
      ]
    },
    {
      "cell_type": "code",
      "metadata": {
        "id": "TgoOITVAn0Xn",
        "colab_type": "code",
        "colab": {}
      },
      "source": [
        "pred_bool = (pred > 0.5)"
      ],
      "execution_count": 0,
      "outputs": []
    },
    {
      "cell_type": "code",
      "metadata": {
        "id": "egW1pU3tn3pw",
        "colab_type": "code",
        "colab": {}
      },
      "source": [
        "predictions = pred_bool.astype(int)\n",
        "results = pd.DataFrame()\n",
        "results['image_id']= testingDF['image_id']\n",
        "results['healthy']=predictions[:,0]\n",
        "results['multiple_diseases']=predictions[:,1]\n",
        "results['rust']=predictions[:,2]\n",
        "results['scab']=predictions[:,3]\n",
        "results.to_csv(\"results_7.csv\", index=False)"
      ],
      "execution_count": 0,
      "outputs": []
    }
  ]
}